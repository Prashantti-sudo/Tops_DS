{
 "cells": [
  {
   "cell_type": "markdown",
   "id": "defa8b2f-bc3d-4ea3-986e-0fcf89bdb69b",
   "metadata": {},
   "source": [
    "### 4 Write a Python program to check if a number is positive, negative or zero."
   ]
  },
  {
   "cell_type": "code",
   "execution_count": 4,
   "id": "8581904a-ae10-4a5b-842b-7e3baac8d4a7",
   "metadata": {},
   "outputs": [
    {
     "name": "stdin",
     "output_type": "stream",
     "text": [
      "enter ur number: 10\n"
     ]
    },
    {
     "name": "stdout",
     "output_type": "stream",
     "text": [
      "positive number\n"
     ]
    }
   ],
   "source": [
    "a = int(input(\"enter ur number:\"))\n",
    "if a > 0:\n",
    "    print(\"positive number\")\n",
    "elif a == 0 :\n",
    "    print(\"equal to\")\n",
    "else :\n",
    "    print(\"negative number\")"
   ]
  },
  {
   "cell_type": "markdown",
   "id": "3b7f913c-c6a0-44a4-8a40-ed581b0819e4",
   "metadata": {},
   "source": [
    "### 5) write a Python program to get the Factorial number of given numbers. "
   ]
  },
  {
   "cell_type": "code",
   "execution_count": 14,
   "id": "1b06496a-95bc-451d-a00a-fdbeb7475183",
   "metadata": {},
   "outputs": [
    {
     "name": "stdin",
     "output_type": "stream",
     "text": [
      "enter ur number 4\n"
     ]
    },
    {
     "name": "stdout",
     "output_type": "stream",
     "text": [
      "factorial of  given number is : 24\n"
     ]
    }
   ],
   "source": [
    "x = int(input(\"enter ur number\"))\n",
    "if x < 0:\n",
    "    print(\"enter positive number\")\n",
    "else :\n",
    "    factorial = 1\n",
    "    for i in range (1,x+1):\n",
    "           factorial*= i\n",
    "    print(\"factorial of  given number is :\",factorial)"
   ]
  },
  {
   "cell_type": "markdown",
   "id": "f5129a03-ad18-43f0-8efa-3ad4d6971fd7",
   "metadata": {},
   "source": [
    "### 6)Write a Python program to get the Fibonacci series of given range. "
   ]
  },
  {
   "cell_type": "code",
   "execution_count": 19,
   "id": "ea04d360-edeb-4558-9ab5-cd6cbac7f575",
   "metadata": {},
   "outputs": [
    {
     "name": "stdin",
     "output_type": "stream",
     "text": [
      "enter ur range 5\n"
     ]
    },
    {
     "name": "stdout",
     "output_type": "stream",
     "text": [
      "[0, 1, 1, 2, 3, 5, 8]\n"
     ]
    }
   ],
   "source": [
    "num=int(input(\"enter ur range\"))\n",
    "x = [0,1]\n",
    "for i in range (num):\n",
    "    c = x[-1]+x[-2]\n",
    "    x.append(c)\n",
    "\n",
    "print(x)\n",
    "\n",
    " \n",
    "\n",
    " "
   ]
  },
  {
   "cell_type": "markdown",
   "id": "02d981b4-81ca-4c0d-ac7d-cab515496252",
   "metadata": {},
   "source": [
    "### 8)What is the purpose continuing statement in python? "
   ]
  },
  {
   "cell_type": "code",
   "execution_count": 22,
   "id": "bac190e6-1946-4999-8cb8-885899751861",
   "metadata": {},
   "outputs": [
    {
     "name": "stdout",
     "output_type": "stream",
     "text": [
      "1 2 4 5 "
     ]
    }
   ],
   "source": [
    "### Continue statement is a loop control statement that forces to execute the next iteration of the loop while skipping the rest of the code inside the loop for the current iteration only.\n",
    "for i in range(1,6):\n",
    "    if i == 3:\n",
    "      continue\n",
    "    else :\n",
    "      print(i,end = \" \")\n"
   ]
  },
  {
   "cell_type": "markdown",
   "id": "7b348a5d-5bcd-4e79-9717-1d3ccf065f2d",
   "metadata": {},
   "source": [
    "### 9) Write python program that swap two number with temp variableand without temp variable. "
   ]
  },
  {
   "cell_type": "code",
   "execution_count": 26,
   "id": "7627e251-aefc-4e5c-b865-64ec37220b19",
   "metadata": {},
   "outputs": [
    {
     "name": "stdin",
     "output_type": "stream",
     "text": [
      "enter a number a 1\n",
      "enter a number b 2\n"
     ]
    },
    {
     "name": "stdout",
     "output_type": "stream",
     "text": [
      "number after swapping are:a =  2 b= 1\n"
     ]
    }
   ],
   "source": [
    "x3 = int(input(\"enter a number a\"))\n",
    "x4 = int(input(\"enter a number b\"))\n",
    "\n",
    "temp = x3 \n",
    "x3=x4\n",
    "x4= temp\n",
    "print(\"number after swapping are:\" \"a = \",x3 ,\"b=\",x4)"
   ]
  },
  {
   "cell_type": "markdown",
   "id": "347e5371-b2d9-4821-a869-8f70e83b079b",
   "metadata": {},
   "source": [
    "#### (10) Write a Python program to find whether a given number is even or odd, print out an appropriate message to the user."
   ]
  },
  {
   "cell_type": "code",
   "execution_count": 4,
   "id": "1b6da7a6-2bee-41db-b45e-8346eb398600",
   "metadata": {},
   "outputs": [
    {
     "name": "stdin",
     "output_type": "stream",
     "text": [
      "enter ur number 5\n"
     ]
    },
    {
     "name": "stdout",
     "output_type": "stream",
     "text": [
      "it is odd\n"
     ]
    }
   ],
   "source": [
    "j = int(input(\"enter ur number\"))\n",
    "if j %2 == 0:\n",
    "    print(\"it is even\")\n",
    "else :\n",
    "    print(\"it is odd\")"
   ]
  },
  {
   "cell_type": "markdown",
   "id": "2b2cdf24-b51a-486d-bbe5-b34c306d4b3a",
   "metadata": {},
   "source": [
    "### (11) Write a Python program to test whether a passed letter is a vowel or not."
   ]
  },
  {
   "cell_type": "code",
   "execution_count": 17,
   "id": "1e55c094-151d-4323-9145-8839f4641450",
   "metadata": {},
   "outputs": [
    {
     "name": "stdin",
     "output_type": "stream",
     "text": [
      "enter ur word a\n"
     ]
    },
    {
     "name": "stdout",
     "output_type": "stream",
     "text": [
      "its vowal\n"
     ]
    }
   ],
   "source": [
    "c = input(\"enter ur word\")\n",
    "if c ==\"A\"or \"E\" or \"I\" or \"O\" or \"U\" or \"a\" or \"e\" or \"i\" or \"o\" or \"u\":\n",
    "  print(\"its vowel\")\n",
    "else :\n",
    "  print(\"it's not vowel\")\n"
   ]
  },
  {
   "cell_type": "markdown",
   "id": "f3a9f48c-439e-4002-897b-49dbc55c2756",
   "metadata": {},
   "source": [
    "### (12) Write a Python program to sum of three given integers. However, if two values are equal sum will be zero"
   ]
  },
  {
   "cell_type": "code",
   "execution_count": 22,
   "id": "066dc334-365b-4f22-aa0b-5f1aa16b09af",
   "metadata": {},
   "outputs": [
    {
     "name": "stdin",
     "output_type": "stream",
     "text": [
      "enter ur number 2\n",
      "enter ur number 5\n",
      "enter ur number 5\n"
     ]
    },
    {
     "name": "stdout",
     "output_type": "stream",
     "text": [
      "sum will zero\n"
     ]
    }
   ],
   "source": [
    "a = int(input(\"enter ur number\"))\n",
    "b = int(input(\"enter ur number\"))\n",
    "c = int(input(\"enter ur number\")) \n",
    "if a==b or b==c or c==a :\n",
    "    print (\"sum will zero\")\n",
    "else :\n",
    "    print(\"the total number\",a+b+C )"
   ]
  },
  {
   "cell_type": "markdown",
   "id": "8b8e1d3b-1fb4-4619-a35b-0684f02db605",
   "metadata": {},
   "source": [
    "### (13) Write a Python program that will return true if the two given integer values are equal or their sum or difference is 5. "
   ]
  },
  {
   "cell_type": "code",
   "execution_count": 1,
   "id": "14ff46d7-d2e4-44a6-8423-73b83a078c44",
   "metadata": {},
   "outputs": [
    {
     "name": "stdin",
     "output_type": "stream",
     "text": [
      "enter ur number 2\n",
      "enter ur number 3\n"
     ]
    },
    {
     "name": "stdout",
     "output_type": "stream",
     "text": [
      "true\n"
     ]
    }
   ],
   "source": [
    "a = int(input(\"enter ur number\"))\n",
    "b = int(input(\"enter ur number\"))\n",
    "if a==b or a+b ==5 or a-b ==5 :\n",
    "  print(\"true\")\n",
    "else :\n",
    "  print(\"false\")"
   ]
  },
  {
   "cell_type": "markdown",
   "id": "76b523fd-3acb-4549-99fd-b4b60f0ec859",
   "metadata": {},
   "source": [
    "### (14) Write a python program to sum of the first n positive integers. "
   ]
  },
  {
   "cell_type": "code",
   "execution_count": 6,
   "id": "180ddf25-b5bf-4f4d-84cb-2ee073acc215",
   "metadata": {},
   "outputs": [
    {
     "name": "stdin",
     "output_type": "stream",
     "text": [
      "enter ur number 5\n"
     ]
    },
    {
     "name": "stdout",
     "output_type": "stream",
     "text": [
      "15\n"
     ]
    }
   ],
   "source": [
    "h = int(input(\"enter ur number\"))\n",
    "sum = 0\n",
    "for i in range(1,h+1):\n",
    "    sum += i\n",
    "print(sum)\n",
    " \n"
   ]
  },
  {
   "cell_type": "markdown",
   "id": "3181ede4-2472-4fbf-bc36-863680da9ae3",
   "metadata": {},
   "source": [
    "### (15) Write a Python program to calculate the length of a string. "
   ]
  },
  {
   "cell_type": "code",
   "execution_count": 9,
   "id": "a11a7580-b6a1-4b5c-8eb0-39615b96f618",
   "metadata": {},
   "outputs": [
    {
     "name": "stdin",
     "output_type": "stream",
     "text": [
      "enter ur statment the value of trick\n"
     ]
    },
    {
     "name": "stdout",
     "output_type": "stream",
     "text": [
      "the total length 18\n"
     ]
    }
   ],
   "source": [
    "s = input(\"enter ur statment\")\n",
    "print(\"the total length\",len(s))"
   ]
  },
  {
   "cell_type": "markdown",
   "id": "181a6861-9904-4149-a38b-edd68ee9f6d8",
   "metadata": {},
   "source": [
    "### (16) Write a Python program to count the number of characters (character frequency) in a string \n"
   ]
  },
  {
   "cell_type": "code",
   "execution_count": 13,
   "id": "38a63159-9270-4fc8-bc71-acfb78229622",
   "metadata": {},
   "outputs": [
    {
     "name": "stdin",
     "output_type": "stream",
     "text": [
      "enter ur statment python is the easy lenguage\n"
     ]
    },
    {
     "name": "stdout",
     "output_type": "stream",
     "text": [
      "<built-in method count of str object at 0x000002327F004490>\n"
     ]
    }
   ],
   "source": [
    "a = input(\"enter ur statment\")\n",
    "b = a.count\n",
    "print(b)"
   ]
  },
  {
   "cell_type": "markdown",
   "id": "68f4cd7b-14e1-44ec-9f4c-142cc9261489",
   "metadata": {},
   "source": [
    "### (17) What are negative indexes and why are they used? "
   ]
  },
  {
   "cell_type": "code",
   "execution_count": null,
   "id": "1b6a78d5-15ab-4c0d-9111-548900f6510c",
   "metadata": {},
   "outputs": [],
   "source": [
    "#Negative indexes in the context of list basics refer to the ability to access elements in a list by specifying a negative number\n",
    "   #as the index. This allows you to count backwards from the end of the list, providing an alternative way to reference the same \n",
    "   #elements."
   ]
  },
  {
   "cell_type": "code",
   "execution_count": 36,
   "id": "7d1a5627-482d-4ffc-90a5-6655d78df279",
   "metadata": {},
   "outputs": [
    {
     "name": "stdout",
     "output_type": "stream",
     "text": [
      "ar\n"
     ]
    }
   ],
   "source": [
    "x14= \"tiwari\"\n",
    "print(x14[-3:-1])\n"
   ]
  },
  {
   "cell_type": "markdown",
   "id": "42900305-b1ac-44c9-9798-7647fa64efcf",
   "metadata": {},
   "source": [
    "### (18) Write a Python program to count occurrences of a substring in a string."
   ]
  },
  {
   "cell_type": "code",
   "execution_count": 5,
   "id": "63c8b735-c88b-44a1-bfc9-c34afd63d6c1",
   "metadata": {},
   "outputs": [
    {
     "name": "stdin",
     "output_type": "stream",
     "text": [
      "enter ur string tiwari\n",
      "enter ur string  t\n"
     ]
    },
    {
     "name": "stdout",
     "output_type": "stream",
     "text": [
      "substring is  1\n"
     ]
    }
   ],
   "source": [
    "a = input(\"enter ur string\")\n",
    "b = input(\"enter ur string \")\n",
    "l = a.count(a)\n",
    "print(\"substring is \",l)\n"
   ]
  },
  {
   "cell_type": "markdown",
   "id": "97c8b5bf-aa48-4c51-bdfa-f6731579cc6b",
   "metadata": {},
   "source": [
    "### (19 Write a Python program to count the occurrences of each word in a given sentence "
   ]
  },
  {
   "cell_type": "code",
   "execution_count": null,
   "id": "dceb790a-f65e-421f-8346-7971d5b2f57c",
   "metadata": {},
   "outputs": [],
   "source": []
  },
  {
   "cell_type": "markdown",
   "id": "dc6cdf16-3122-49c1-9aa2-b6c0e0c280bc",
   "metadata": {},
   "source": [
    "### (20) Write a Python program to get a single string from two given strings, separated by a space and swap the first two characters of each string. "
   ]
  },
  {
   "cell_type": "code",
   "execution_count": 12,
   "id": "100372d7-3124-4510-a708-cb7627d95ffb",
   "metadata": {},
   "outputs": [
    {
     "name": "stdin",
     "output_type": "stream",
     "text": [
      "enter ur string 1: hello\n",
      "enter ur string 1: world\n"
     ]
    },
    {
     "data": {
      "text/plain": [
       "'wohe hewo'"
      ]
     },
     "execution_count": 12,
     "metadata": {},
     "output_type": "execute_result"
    }
   ],
   "source": [
    "a = input(\"enter ur string 1:\")\n",
    "b = input(\"enter ur string 1:\")\n",
    "p= b[0:2] + a[0:2]\n",
    "q= a[0:2] + b[0:2]\n",
    "l = p + \" \"+ q\n",
    "l"
   ]
  },
  {
   "cell_type": "markdown",
   "id": "5d5eb25d-c5b8-4996-b6a4-f1c354581eb5",
   "metadata": {},
   "source": [
    "### (21) Write a Python program to add 'in' at the end of a given string (length should be at least 3). If the given string already ends with 'ing' then ###add 'ly' instead if the string length of the given string is less than 3, leave it unchanged."
   ]
  },
  {
   "cell_type": "code",
   "execution_count": 20,
   "id": "763a44df-b561-4ba0-b779-40f5a68764eb",
   "metadata": {},
   "outputs": [
    {
     "name": "stdin",
     "output_type": "stream",
     "text": [
      "enter ur value walking\n"
     ]
    },
    {
     "name": "stdout",
     "output_type": "stream",
     "text": [
      "walkingly\n"
     ]
    }
   ],
   "source": [
    "a = input(\"enter ur value\")\n",
    "if len(a)<3 :\n",
    "    result = a\n",
    "elif a.endswith(\"ing\"):\n",
    "    result = a + \"ly\"\n",
    "else :\n",
    "    result = a + \"ing\"\n",
    "print(result)"
   ]
  },
  {
   "cell_type": "markdown",
   "id": "ac2c887f-8466-49b0-ba33-d595b58fe71d",
   "metadata": {},
   "source": [
    "### (22) Write a Python function to reverses a string if its length is a multiple of 4. \n"
   ]
  },
  {
   "cell_type": "code",
   "execution_count": 39,
   "id": "3c01ec62-59de-48fc-b251-b22be7204d89",
   "metadata": {},
   "outputs": [
    {
     "name": "stdin",
     "output_type": "stream",
     "text": [
      "enter ur word lolo\n"
     ]
    },
    {
     "name": "stdout",
     "output_type": "stream",
     "text": [
      "olol\n"
     ]
    }
   ],
   "source": [
    "a = input(\"enter ur word\")\n",
    "if len(a) %4 == 0 :\n",
    "    a= a[::-1]\n",
    "    print(a)"
   ]
  },
  {
   "cell_type": "markdown",
   "id": "5258a715-ea75-43e3-a15e-40e28ea7645f",
   "metadata": {},
   "source": [
    "### (23) Write a Python program to get a string made of the first 2 and the last 2 chars from a given a string. If the string length is less than 2return\n",
    "### instead of the empty string."
   ]
  },
  {
   "cell_type": "code",
   "execution_count": null,
   "id": "a3ba60d2-5201-4acb-baa8-92d537c06f33",
   "metadata": {},
   "outputs": [],
   "source": []
  },
  {
   "cell_type": "markdown",
   "id": "6d0e7d0b-1b39-447f-aeaf-8b5533fd2c32",
   "metadata": {},
   "source": [
    "### (24) Write a Python function to insert a string in the middle of a string."
   ]
  },
  {
   "cell_type": "code",
   "execution_count": 46,
   "id": "9d54e2a0-765f-4901-a236-49a27e5a4845",
   "metadata": {},
   "outputs": [
    {
     "name": "stdin",
     "output_type": "stream",
     "text": [
      "enter a 1st string prashant tiwari\n",
      "enter a 2nd string sanjay\n"
     ]
    },
    {
     "data": {
      "text/plain": [
       "'prashan sanjayt tiwari'"
      ]
     },
     "execution_count": 46,
     "metadata": {},
     "output_type": "execute_result"
    }
   ],
   "source": [
    "x25=input(\"enter a 1st string\")\n",
    "x26=input(\"enter a 2nd string\")\n",
    "\n",
    "x27 = len(x25)//2\n",
    "x28 = x25[:x27]+ \" \" + x26 +x25[x27:]\n",
    "x28"
   ]
  },
  {
   "cell_type": "markdown",
   "id": "84ee0ce1-1fc0-4d10-9fa1-80e6c2454fdf",
   "metadata": {},
   "source": [
    "### (25) What is List? How will you reverse a list?"
   ]
  },
  {
   "cell_type": "code",
   "execution_count": 13,
   "id": "5b82fab5-a51b-446f-94f0-578a7dceae4c",
   "metadata": {},
   "outputs": [
    {
     "data": {
      "text/plain": [
       "[9, 8, 7, 6, 5, 4, 3, 2, 1]"
      ]
     },
     "execution_count": 13,
     "metadata": {},
     "output_type": "execute_result"
    }
   ],
   "source": [
    "'''There are many built-in types in Python that allow us to group and store multiple items. Python lists are the most versatile among them.\n",
    "   A list is a collection of ordered, mutable elements '''\n",
    "\n",
    " \n",
    "l = [1,2,3,4,5,6,7,8,9]\n",
    "l.reverse() \n",
    "l\n"
   ]
  },
  {
   "cell_type": "markdown",
   "id": "6f7cd930-8fd3-4bb8-a90f-20b7458f4706",
   "metadata": {},
   "source": [
    "### (26) How will you remove last object from a list?"
   ]
  },
  {
   "cell_type": "code",
   "execution_count": 16,
   "id": "565643f9-034f-4a78-8311-d08dc7abcf86",
   "metadata": {},
   "outputs": [
    {
     "data": {
      "text/plain": [
       "[1, 2, 3, 4, 5, 6, 7, 8, 9, 10, 11, 12, 13, 14]"
      ]
     },
     "execution_count": 16,
     "metadata": {},
     "output_type": "execute_result"
    }
   ],
   "source": [
    "a =[1,2,3,4,5,6,7,8,9,10,11,12,13,14,15]\n",
    "a.pop()\n",
    "a"
   ]
  },
  {
   "cell_type": "markdown",
   "id": "4e45fbd1-b540-4bcf-abdc-b48601651eb0",
   "metadata": {},
   "source": [
    "### (27) Suppose list1 is [2, 33, 222, 14, and 25], what is list1 [-1]? "
   ]
  },
  {
   "cell_type": "code",
   "execution_count": null,
   "id": "6f6b582f-4f22-4efe-85ea-49d2474129d5",
   "metadata": {},
   "outputs": [],
   "source": []
  },
  {
   "cell_type": "markdown",
   "id": "efe734af-cdd8-4849-891b-8c336c6fc2d9",
   "metadata": {},
   "source": [
    "### (28) Differentiate between append () and extend () methods?"
   ]
  },
  {
   "cell_type": "code",
   "execution_count": 31,
   "id": "22fd364f-e961-47d0-97f6-9d181b57a63e",
   "metadata": {},
   "outputs": [
    {
     "data": {
      "text/plain": [
       "[2, 3, 4, 5, 6, 7, [7, 8], 7, 8]"
      ]
     },
     "execution_count": 31,
     "metadata": {},
     "output_type": "execute_result"
    }
   ],
   "source": [
    " #the key diffrence between two method is\n",
    "    #append() Adds a single element to the end of the list.extend()Adds multiple elements from an iterable to the end of the list.\n",
    "\t#append() Accepts a single element (any data type).extend()Accepts an iterable (e.g., list, tuple).'''\n",
    "a = [2,3,4,5,6,7]\n",
    "a.append([7,8])\n",
    "a\n",
    "a.extend([7,8])\n",
    "a"
   ]
  },
  {
   "cell_type": "markdown",
   "id": "6ded2415-003d-4cfd-8312-9f6c0022b59f",
   "metadata": {},
   "source": [
    "### (29) Write a Python function to get the largest number, smallest num and sum of all from a list.\n"
   ]
  },
  {
   "cell_type": "code",
   "execution_count": 34,
   "id": "8481044d-27b3-41f9-b65e-bccaa6acd253",
   "metadata": {},
   "outputs": [
    {
     "name": "stdout",
     "output_type": "stream",
     "text": [
      "large number is : 13\n",
      "small number is : 1\n",
      "sum number is : 49\n"
     ]
    }
   ],
   "source": [
    "a=[1,3,5,7,9,11,13]\n",
    "large = max(a)\n",
    "small = min(a)\n",
    "sum = sum(a)\n",
    "print(\"large number is :\",large)\n",
    "print(\"small number is :\",small)\n",
    "print(\"sum number is :\",sum)"
   ]
  },
  {
   "cell_type": "markdown",
   "id": "7285febc-8afa-4156-967c-2177de223c3b",
   "metadata": {},
   "source": [
    "### (30)How will you compare two lists? "
   ]
  },
  {
   "cell_type": "code",
   "execution_count": 37,
   "id": "095ce6f6-9b60-47de-8339-a9be2d0371ac",
   "metadata": {},
   "outputs": [
    {
     "name": "stdout",
     "output_type": "stream",
     "text": [
      "list are not equal\n"
     ]
    }
   ],
   "source": [
    "a=[1,2,3,4]\n",
    "b=[5,6,7,8]\n",
    "if a == b:\n",
    "    print(\"list are equal\")\n",
    "else:\n",
    "    print(\"list are not equal\")"
   ]
  },
  {
   "cell_type": "markdown",
   "id": "e542a959-c4d9-4a45-afcd-8f3fa6b82a70",
   "metadata": {},
   "source": [
    "### (31) Write a Python program to count the number of strings where the string length is 2 or more and the first and last character are same from a\n",
    "### given list of strings."
   ]
  },
  {
   "cell_type": "code",
   "execution_count": null,
   "id": "33601415-434c-40d7-ba73-6fec9741c1e8",
   "metadata": {},
   "outputs": [],
   "source": []
  },
  {
   "cell_type": "markdown",
   "id": "106c5996-aba1-4422-a2f4-3e0282d2aabc",
   "metadata": {},
   "source": [
    "### (32)Write a Python program to remove duplicates from a list."
   ]
  },
  {
   "cell_type": "code",
   "execution_count": 42,
   "id": "8160a847-e53f-413b-8bb4-4547ff49c463",
   "metadata": {},
   "outputs": [
    {
     "data": {
      "text/plain": [
       "{1, 2, 3, 4, 5, 6, 7, 8}"
      ]
     },
     "execution_count": 42,
     "metadata": {},
     "output_type": "execute_result"
    }
   ],
   "source": [
    "a = [1,2,3,4,4,5,6,7,8]\n",
    "b =set(a)\n",
    "b"
   ]
  },
  {
   "cell_type": "markdown",
   "id": "8358b85c-3fc9-4711-86a8-9545cd7a5691",
   "metadata": {},
   "source": [
    "### (33)Write a Python program to check a list is empty or not"
   ]
  },
  {
   "cell_type": "code",
   "execution_count": 45,
   "id": "8cfd347a-3507-43c0-ad80-2ab1f4056273",
   "metadata": {},
   "outputs": [
    {
     "name": "stdout",
     "output_type": "stream",
     "text": [
      "list is empty\n"
     ]
    }
   ],
   "source": [
    "l6 = []\n",
    "if len(l6) == 0:\n",
    "    print(\"list is empty\")\n",
    "else:\n",
    "    print(\"list is not empty\")"
   ]
  },
  {
   "cell_type": "markdown",
   "id": "85991001-2d78-4732-8bee-e8ac362d7aa2",
   "metadata": {},
   "source": [
    "### (34) Write a Python function that takes two lists and returns true if they have at least one common member."
   ]
  },
  {
   "cell_type": "code",
   "execution_count": 48,
   "id": "1cad40b9-a336-4a03-a7a5-c6f84f6ee1f5",
   "metadata": {},
   "outputs": [
    {
     "name": "stdout",
     "output_type": "stream",
     "text": [
      "true\n"
     ]
    }
   ],
   "source": [
    "a = [1,2,3,4]\n",
    "b = [4,5,6,7]\n",
    "\n",
    "\n",
    "for i in a:\n",
    "    if i in b:\n",
    "        x = \"true\"\n",
    "        break\n",
    "    else:\n",
    "        x= \"false\"\n",
    "print(x)"
   ]
  },
  {
   "cell_type": "markdown",
   "id": "3526e05a-9408-4727-9ff6-837573608355",
   "metadata": {},
   "source": [
    "### (35) Write a Python program to generate and print a list of first and last 5 elements where the values are square of numbers between 1 and 30."
   ]
  },
  {
   "cell_type": "code",
   "execution_count": null,
   "id": "b0df8bbf-b9f1-4d0e-ad6c-672805ed5bc5",
   "metadata": {},
   "outputs": [],
   "source": []
  },
  {
   "cell_type": "markdown",
   "id": "77f40146-7e72-4f8b-9490-d47169772813",
   "metadata": {},
   "source": [
    "### (36) Write a Python function that takes a list and returns a new list with unique elements of the first list"
   ]
  },
  {
   "cell_type": "code",
   "execution_count": 54,
   "id": "fb501910-7a0e-49ff-a915-a1b58baf410e",
   "metadata": {},
   "outputs": [
    {
     "data": {
      "text/plain": [
       "{1, 2, 3, 4, 5}"
      ]
     },
     "execution_count": 54,
     "metadata": {},
     "output_type": "execute_result"
    }
   ],
   "source": [
    "a = [1,2,3,4,3,2,5,5,2]\n",
    "b = set(a)\n",
    "b"
   ]
  },
  {
   "cell_type": "markdown",
   "id": "8ac1d98e-378a-4d53-a9f7-f5fe2f0d4f49",
   "metadata": {},
   "source": [
    "### (37)Write a Python program to convert a list of characters into a string."
   ]
  },
  {
   "cell_type": "code",
   "execution_count": 65,
   "id": "9c450ac7-88d0-480a-8bb6-b17588fd0377",
   "metadata": {},
   "outputs": [
    {
     "data": {
      "text/plain": [
       "'abc cde efg ghi'"
      ]
     },
     "execution_count": 65,
     "metadata": {},
     "output_type": "execute_result"
    }
   ],
   "source": [
    "a = [\"abc\",\"cde\",\"efg\",\"ghi\"]\n",
    "b = ' '.join(a)\n",
    "b"
   ]
  },
  {
   "cell_type": "markdown",
   "id": "2217da7f-85a9-48ab-93b7-68fbd0c950c7",
   "metadata": {},
   "source": [
    "### (38)Write a Python program to select an item randomly from a list. "
   ]
  },
  {
   "cell_type": "code",
   "execution_count": 82,
   "id": "a85f3a87-ba55-4840-8abe-7875751e4b8d",
   "metadata": {},
   "outputs": [
    {
     "name": "stdout",
     "output_type": "stream",
     "text": [
      "4\n"
     ]
    }
   ],
   "source": [
    "import random\n",
    "l14= [1,2,3,4,5,6,\"p\",\"q\"]\n",
    "print(random.choice(l14))"
   ]
  },
  {
   "cell_type": "markdown",
   "id": "6b2f5f11-c2b9-415a-b694-d341a771bbb3",
   "metadata": {},
   "source": [
    "### (39)Write a Python program to find the second smallest number in a list. "
   ]
  },
  {
   "cell_type": "code",
   "execution_count": 93,
   "id": "cdaa229e-2161-45b5-872a-43b34eb0ff15",
   "metadata": {},
   "outputs": [
    {
     "data": {
      "text/plain": [
       "2"
      ]
     },
     "execution_count": 93,
     "metadata": {},
     "output_type": "execute_result"
    }
   ],
   "source": [
    "a = [1,2,3,4,5,6,7,8,9]\n",
    "b = a.remove(min(a))\n",
    "c = min(a)\n",
    "c"
   ]
  },
  {
   "cell_type": "markdown",
   "id": "5d834306-4237-41da-b08c-09620a0c796b",
   "metadata": {},
   "source": [
    "### (40)Write a Python program to get unique values from a list \n"
   ]
  },
  {
   "cell_type": "code",
   "execution_count": 96,
   "id": "a63fc0d7-b4b5-4d90-8c6a-5591f0d997e5",
   "metadata": {},
   "outputs": [
    {
     "name": "stdout",
     "output_type": "stream",
     "text": [
      "Unique List= {1, 2, 3, 4, 5, 'a'}\n"
     ]
    }
   ],
   "source": [
    "a=[1,2,4,3,4,5,\"a\",\"a\",\"a\"]\n",
    "b = set(a)\n",
    "print(\"Unique List=\", b)"
   ]
  },
  {
   "cell_type": "markdown",
   "id": "504f6692-7f0c-481f-8f45-229ac6b493f0",
   "metadata": {},
   "source": [
    "### (41)Write a Python program to check whether a list contains a sub list"
   ]
  },
  {
   "cell_type": "code",
   "execution_count": 99,
   "id": "768759bb-4d16-4d65-8984-979f6295a2ef",
   "metadata": {},
   "outputs": [
    {
     "name": "stdout",
     "output_type": "stream",
     "text": [
      "not sub list\n",
      "sub list\n"
     ]
    }
   ],
   "source": [
    "a = [1,2,3,4,5,6,7]\n",
    "b = [9,7]\n",
    "\n",
    "for i in b:\n",
    "    if i in a:\n",
    "        print(\"sub list\")\n",
    "        \n",
    "    else:\n",
    "        print(\"not sub list\")\n"
   ]
  },
  {
   "cell_type": "markdown",
   "id": "b6b04b30-68e5-4f94-922a-3f7475e57843",
   "metadata": {},
   "source": [
    "### (42)Write a Python program to split a list into different variables."
   ]
  },
  {
   "cell_type": "code",
   "execution_count": 104,
   "id": "94d9fb0e-f8cc-4d7d-9466-188c66d23a02",
   "metadata": {},
   "outputs": [
    {
     "name": "stdout",
     "output_type": "stream",
     "text": [
      "(1, 2, 3)\n"
     ]
    },
    {
     "data": {
      "text/plain": [
       "(4, 5)"
      ]
     },
     "execution_count": 104,
     "metadata": {},
     "output_type": "execute_result"
    }
   ],
   "source": [
    "a = [(1,2,3),(4,5)]\n",
    "l,m = a\n",
    "print(l)\n",
    "m"
   ]
  },
  {
   "cell_type": "markdown",
   "id": "6f75c402-09bf-452d-a396-9c2ebfe06cc2",
   "metadata": {},
   "source": [
    "### (44)Write a Python program to create a tuple with different data types"
   ]
  },
  {
   "cell_type": "code",
   "execution_count": 109,
   "id": "ba2b6e6f-49a9-4b92-930c-817aeb31b2bf",
   "metadata": {},
   "outputs": [
    {
     "name": "stdout",
     "output_type": "stream",
     "text": [
      "<class 'tuple'>\n"
     ]
    }
   ],
   "source": [
    "a = (\"ku\",[2],(\"kj\"),8,5,(a,b))\n",
    "print(type(a))"
   ]
  },
  {
   "cell_type": "markdown",
   "id": "229b4714-c5c8-42af-ad84-aa89996fb37d",
   "metadata": {},
   "source": [
    "### (45)Write a Python program to unzip a list of tuples into individual lists."
   ]
  },
  {
   "cell_type": "code",
   "execution_count": 113,
   "id": "1d3c790b-44c1-4317-ae66-41c568c01c6f",
   "metadata": {},
   "outputs": [
    {
     "data": {
      "text/plain": [
       "(('1', 'a', 'c', '7', 1),)"
      ]
     },
     "execution_count": 113,
     "metadata": {},
     "output_type": "execute_result"
    }
   ],
   "source": [
    "x33 = ('1','a','c','7',(1,2))\n",
    "x34 = tuple(zip(*x33))\n",
    "x34"
   ]
  },
  {
   "cell_type": "markdown",
   "id": "e3eab0f5-7b90-4fa9-8e96-909032ffea29",
   "metadata": {},
   "source": [
    "### (46)Write a Python program to convert a list of tuples into a dictionary"
   ]
  },
  {
   "cell_type": "code",
   "execution_count": 118,
   "id": "99314b3e-8436-4f67-b3d1-050445167ef4",
   "metadata": {},
   "outputs": [
    {
     "data": {
      "text/plain": [
       "{'a': 2, 'b': 3, 'c': 4}"
      ]
     },
     "execution_count": 118,
     "metadata": {},
     "output_type": "execute_result"
    }
   ],
   "source": [
    "a =[(\"a\",2),(\"b\",3),(\"c\",4)]\n",
    "b = dict(a)\n",
    "b"
   ]
  },
  {
   "cell_type": "markdown",
   "id": "7067b470-85d8-463c-85de-5f079cdd0006",
   "metadata": {},
   "source": [
    "### (47)How will you create a dictionary using tuples in python? "
   ]
  },
  {
   "cell_type": "code",
   "execution_count": 122,
   "id": "ecccd586-49e5-47c7-82bc-0ee4608f2274",
   "metadata": {},
   "outputs": [
    {
     "data": {
      "text/plain": [
       "{('ab', 'cd'), 1, 2}"
      ]
     },
     "execution_count": 122,
     "metadata": {},
     "output_type": "execute_result"
    }
   ],
   "source": [
    "dic = {1,2,(\"ab\",\"cd\")}\n",
    "dic"
   ]
  },
  {
   "cell_type": "markdown",
   "id": "84d55444-cb15-4921-b859-a8f0a632ae59",
   "metadata": {},
   "source": [
    "### (48)Write a Python script to sort (ascending and descending) a dictionary by value. "
   ]
  },
  {
   "cell_type": "code",
   "execution_count": 8,
   "id": "7f10d6a2-439c-407f-9ee2-ba44e3de310b",
   "metadata": {},
   "outputs": [
    {
     "data": {
      "text/plain": [
       "{1, 2, 3, 4, 5, 6}"
      ]
     },
     "execution_count": 8,
     "metadata": {},
     "output_type": "execute_result"
    }
   ],
   "source": [
    "dict1 ={2,3,5,1,4,6}\n",
    "a = set(dict1)\n",
    "a"
   ]
  },
  {
   "cell_type": "markdown",
   "id": "4661b799-0903-4033-8f07-37c2951fc7bf",
   "metadata": {},
   "source": [
    "### (49)Write a Python script to concatenate following dictionaries to create a new one. "
   ]
  },
  {
   "cell_type": "code",
   "execution_count": 13,
   "id": "0387700b-227c-481b-aed8-1b1b941434c4",
   "metadata": {},
   "outputs": [
    {
     "data": {
      "text/plain": [
       "{1, 2, 3, 4, 5, 6, 7, 8, 9}"
      ]
     },
     "execution_count": 13,
     "metadata": {},
     "output_type": "execute_result"
    }
   ],
   "source": [
    "dict1={1,2,3}\n",
    "dict2={4,5,6}\n",
    "dict3={7,8,9}\n",
    "dict4={}\n",
    "dict4 = dict1.copy()\n",
    "dict4.update(dict2)\n",
    "dict4.update(dict3)\n",
    "dict4\n"
   ]
  },
  {
   "cell_type": "markdown",
   "id": "a9d25101-4378-407d-ba7c-382ca062bbed",
   "metadata": {},
   "source": [
    "### 50)Write a Python script to check if a given key already exists in a dictionary. "
   ]
  },
  {
   "cell_type": "code",
   "execution_count": 20,
   "id": "bdd58059-46b8-4266-9841-f39399b08c98",
   "metadata": {},
   "outputs": [
    {
     "name": "stdin",
     "output_type": "stream",
     "text": [
      "input ur key alone\n"
     ]
    },
    {
     "name": "stdout",
     "output_type": "stream",
     "text": [
      "key is in dic5\n"
     ]
    }
   ],
   "source": [
    "dic5 = {\"alone\",\"marko\",\"larko\",\"parko\",\"samko\"}\n",
    "key = input(\"input ur key\")\n",
    "if key in dic5 :\n",
    "    print(\"key is in dic5\")\n",
    "else :\n",
    "    print(\"key is not dic5 \")"
   ]
  },
  {
   "cell_type": "markdown",
   "id": "a2a1d2ae-f456-4236-b4db-e19c5029b41c",
   "metadata": {},
   "source": [
    "### (51)How Do You Traverse Through a Dictionary Object in Python?"
   ]
  },
  {
   "cell_type": "code",
   "execution_count": 28,
   "id": "65356b9a-4899-4210-a85b-65bd9de8969f",
   "metadata": {},
   "outputs": [
    {
     "name": "stdout",
     "output_type": "stream",
     "text": [
      "dict_keys(['name', 'age', 'state'])\n",
      "dict_values(['prashant', 88, 'gujarat'])\n",
      "dict_items([('name', 'prashant'), ('age', 88), ('state', 'gujarat')])\n"
     ]
    }
   ],
   "source": [
    "dict1 = {\n",
    "    \"name\" : \"prashant\",\n",
    "    \"age\" : 88,\n",
    "    \"state\": \"gujarat\"\n",
    "}\n",
    "dict1\n",
    "a=dict1.keys()\n",
    "b=dict1.values()\n",
    "c=dict1.items() \n",
    "print(a)\n",
    "print(b)\n",
    "print(c)\n"
   ]
  },
  {
   "cell_type": "markdown",
   "id": "237912c4-c966-4d8e-96c2-6ffc1615a4f8",
   "metadata": {},
   "source": [
    "### (52)How Do You Check the Presence of a Key in A Dictionary? "
   ]
  },
  {
   "cell_type": "code",
   "execution_count": 33,
   "id": "19378285-c530-4859-ae3e-1388a64536a8",
   "metadata": {},
   "outputs": [
    {
     "name": "stdin",
     "output_type": "stream",
     "text": [
      "enter ur key name\n"
     ]
    },
    {
     "name": "stdout",
     "output_type": "stream",
     "text": [
      "yes key in dict1\n"
     ]
    }
   ],
   "source": [
    "dict1 = {\n",
    "    \"name\" : \"abcd\" ,\n",
    "    \"age\": 99 ,\n",
    "    \"state\" : \"gujarat\"\n",
    "}\n",
    "key = input(\"enter ur key\")\n",
    "if key in dict1 :\n",
    "    print(\"yes key in dict1\")\n",
    "else :\n",
    "    print(\"not at all\")"
   ]
  },
  {
   "cell_type": "markdown",
   "id": "9379f3aa-7c05-4775-8000-aa315bab2a46",
   "metadata": {},
   "source": [
    "### (53)Write a Python script to print a dictionary where the keys are numbers between 1 and 15."
   ]
  },
  {
   "cell_type": "code",
   "execution_count": 40,
   "id": "67ba91a2-ec16-49d9-b2fc-dce682cf59b0",
   "metadata": {},
   "outputs": [
    {
     "name": "stdout",
     "output_type": "stream",
     "text": [
      "Dictionary: {1: 1, 2: 4, 3: 9, 4: 16, 5: 25, 6: 36, 7: 49, 8: 64, 9: 81, 10: 100, 11: 121, 12: 144, 13: 169, 14: 196, 15: 225}\n"
     ]
    }
   ],
   "source": [
    "dict1 = {}\n",
    "for key in range(1, 16):\n",
    "    dict1[key] = key ** 2\n",
    "print(\"Dictionary:\", dict1)"
   ]
  },
  {
   "cell_type": "markdown",
   "id": "db05809d-ead1-44ba-88d0-c2e2838668f9",
   "metadata": {},
   "source": [
    "### (54)Write a Python program to check multiple keys exists in a dictionary"
   ]
  },
  {
   "cell_type": "code",
   "execution_count": 46,
   "id": "d64dfa1c-53a3-4b41-a14b-a87648abf2bd",
   "metadata": {},
   "outputs": [
    {
     "name": "stdout",
     "output_type": "stream",
     "text": [
      "ha bhai he\n"
     ]
    }
   ],
   "source": [
    "dict1 = {\n",
    "    \"name\" : \"abcd\" ,\n",
    "    \"age\": 99 ,\n",
    "    \"state\" : \"gujarat\"\n",
    "}\n",
    "key= {\"name\",\"age\",\"state\"}\n",
    "if key.issubset(dict1.keys()):\n",
    "    print(\"ha bhai he\")\n",
    "else :\n",
    "    print(\"na bhai nhi he \")"
   ]
  },
  {
   "cell_type": "markdown",
   "id": "248ce126-5397-4a29-8b05-e5ff059bf3fd",
   "metadata": {},
   "source": [
    "### (55)Write a Python script to merge two Python dictionaries"
   ]
  },
  {
   "cell_type": "code",
   "execution_count": 65,
   "id": "be953742-7218-4127-8f02-96e070a5882a",
   "metadata": {},
   "outputs": [],
   "source": [
    "def merge(dict1,dict2):\n",
    "   return(dict1.update(dict2))\n",
    "dict11 = {1,2,3,4 }\n",
    "dict12 = {'a','b','c','d'}\n",
    "\n"
   ]
  },
  {
   "cell_type": "code",
   "execution_count": 85,
   "id": "294f5e31-08c3-4da6-9274-29740693d447",
   "metadata": {},
   "outputs": [
    {
     "data": {
      "text/plain": [
       "{1, 2, 3, 4, 'a', 'b', 'c', 'd'}"
      ]
     },
     "execution_count": 85,
     "metadata": {},
     "output_type": "execute_result"
    }
   ],
   "source": [
    "merge(dict11,dict12)\n",
    "dict11\n"
   ]
  },
  {
   "cell_type": "markdown",
   "id": "62c0f696-afcc-405f-9698-1960a03c003b",
   "metadata": {},
   "source": [
    "### (56)Write a Python program to map two lists into a dictionary"
   ]
  },
  {
   "cell_type": "code",
   "execution_count": 88,
   "id": "9eef5e54-0bc3-48bd-aa6b-d98c61ae7e31",
   "metadata": {},
   "outputs": [
    {
     "data": {
      "text/plain": [
       "{'a': 1, 'b': 2, 'c': 3}"
      ]
     },
     "execution_count": 88,
     "metadata": {},
     "output_type": "execute_result"
    }
   ],
   "source": [
    "key = ['a','b','c']\n",
    "value = [1,2,3]\n",
    "dic11 = {}\n",
    "for  i in range(len(key)):\n",
    "    dic11[key[i]] = value[i]\n",
    "dic11"
   ]
  },
  {
   "cell_type": "markdown",
   "id": "658fe488-6b4f-4a94-bca4-1022ab17a4c1",
   "metadata": {},
   "source": [
    "### (57)Write a Python program to find the highest 3 values in a dictionary "
   ]
  },
  {
   "cell_type": "code",
   "execution_count": 97,
   "id": "0fb11f6e-2d66-46fc-8b7d-c3b944788d44",
   "metadata": {},
   "outputs": [
    {
     "name": "stdout",
     "output_type": "stream",
     "text": [
      "highest value 3  [700, 800, 900]\n"
     ]
    }
   ],
   "source": [
    "dict = {800,500,600,700,400,900}\n",
    "lst = list(dict)\n",
    "lst.sort()\n",
    "print(\"highest value 3 \", lst[3:])\n"
   ]
  },
  {
   "cell_type": "markdown",
   "id": "9ce4a1f3-8532-4e93-85a9-c0d097f8a603",
   "metadata": {},
   "source": [
    "### (58)Write a Python program to combine values in python list of dictionaries."
   ]
  },
  {
   "cell_type": "code",
   "execution_count": null,
   "id": "3728ac47-3439-4352-b4de-99014eb7a53c",
   "metadata": {},
   "outputs": [],
   "source": []
  },
  {
   "cell_type": "markdown",
   "id": "778bc89e-4969-4137-a87d-166afc01d86a",
   "metadata": {},
   "source": [
    "### (59)Write a Python program to create a dictionary from a string.\n",
    "### Note: Track the count of the letters from the string. \n"
   ]
  },
  {
   "cell_type": "code",
   "execution_count": 103,
   "id": "3096de25-3150-401f-8720-f1dc24c013ae",
   "metadata": {},
   "outputs": [
    {
     "name": "stdin",
     "output_type": "stream",
     "text": [
      "enter a string absbauyabb\n"
     ]
    },
    {
     "name": "stdout",
     "output_type": "stream",
     "text": [
      "{'a': 3, 'b': 4, 's': 1, 'u': 1, 'y': 1}\n"
     ]
    }
   ],
   "source": [
    "str = input(\"enter a string\")\n",
    "a = {}\n",
    "for  i in str:\n",
    "    if  i in a:\n",
    "        a[i] += 1\n",
    "    else:\n",
    "        a[i] = 1\n",
    "print(a)"
   ]
  },
  {
   "cell_type": "markdown",
   "id": "732e271c-2789-4d40-bc95-3786b2bdb153",
   "metadata": {},
   "source": [
    "### (60)Sample string:\n",
    "###  w3resource' Expected output: • {'3': 1,’s’: 1, 'r': 2, 'u': 1, 'w': 1, 'c': 1, 'e': 2, 'o': 1}"
   ]
  },
  {
   "cell_type": "code",
   "execution_count": 108,
   "id": "01479ca3-2423-408d-a0d8-6c8816cce21a",
   "metadata": {},
   "outputs": [
    {
     "name": "stdout",
     "output_type": "stream",
     "text": [
      "{'w': 1, '3': 1, 'r': 2, 'e': 2, 's': 1, 'o': 1, 'u': 1, 'c': 1}\n"
     ]
    }
   ],
   "source": [
    "str2 = \"w3resource\"\n",
    "char_count2 = {}\n",
    "for  j in str2:\n",
    "    if  j in char_count2:\n",
    "        char_count2[j] += 1\n",
    "    else:\n",
    "        char_count2[j] = 1\n",
    "print(char_count2)\n"
   ]
  },
  {
   "cell_type": "markdown",
   "id": "7847b165-7137-49c4-8d04-16ec2c625869",
   "metadata": {},
   "source": [
    "### (61)Write a Python function to calculate the factorial of a number (anonnegative integer) "
   ]
  },
  {
   "cell_type": "code",
   "execution_count": 111,
   "id": "f2c23d6c-a1d4-46a0-930d-c645db1f7f45",
   "metadata": {},
   "outputs": [
    {
     "name": "stdin",
     "output_type": "stream",
     "text": [
      "enter a number 4\n"
     ]
    },
    {
     "data": {
      "text/plain": [
       "24"
      ]
     },
     "execution_count": 111,
     "metadata": {},
     "output_type": "execute_result"
    }
   ],
   "source": [
    "import math\n",
    "a = int(input(\"enter a number\"))\n",
    "b = math.factorial(a)\n",
    "b"
   ]
  },
  {
   "cell_type": "markdown",
   "id": "b390e97d-3af8-41da-a70b-8a1c559e932a",
   "metadata": {},
   "source": [
    "### (62)Write a Python function to check whether a number is in a given range"
   ]
  },
  {
   "cell_type": "code",
   "execution_count": null,
   "id": "80af4423-a0fc-4c07-a2ef-33513d70d015",
   "metadata": {},
   "outputs": [],
   "source": []
  },
  {
   "cell_type": "markdown",
   "id": "6024f94a-d93f-4b51-9f35-e3b1dcca05f5",
   "metadata": {},
   "source": [
    "### (63)Write a Python function to check whether a number is perfect or not. \n"
   ]
  },
  {
   "cell_type": "code",
   "execution_count": null,
   "id": "422ae72a-838c-48c0-b17d-c9942bcb303d",
   "metadata": {},
   "outputs": [],
   "source": []
  },
  {
   "cell_type": "markdown",
   "id": "d6ae6343-efac-4f39-bae7-fe844a5b00f7",
   "metadata": {},
   "source": [
    "###   (64)Write a Python function that checks whether a passed string is palindrome or not "
   ]
  },
  {
   "cell_type": "code",
   "execution_count": 118,
   "id": "b55dc007-3e18-4fa8-af66-c8705e61145e",
   "metadata": {},
   "outputs": [
    {
     "name": "stdin",
     "output_type": "stream",
     "text": [
      "enter a string lol\n"
     ]
    },
    {
     "name": "stdout",
     "output_type": "stream",
     "text": [
      "it is palindrome\n"
     ]
    }
   ],
   "source": [
    "def pal(x):\n",
    "    return x == x[::-1]\n",
    "x44 = input(\"enter a string\")\n",
    "if pal(x44):\n",
    "    print(\"it is palindrome\")\n",
    "else:\n",
    "    print(\"it is bot palindrome\")"
   ]
  },
  {
   "cell_type": "markdown",
   "id": "0b336b54-a6e6-4644-be33-ed0c4eb7637b",
   "metadata": {},
   "source": [
    "### (66)How can you pick a random item from a list or tuple?"
   ]
  },
  {
   "cell_type": "code",
   "execution_count": 121,
   "id": "f4a7dfc5-9ff3-4e66-ba03-a3453a303b85",
   "metadata": {},
   "outputs": [
    {
     "name": "stdout",
     "output_type": "stream",
     "text": [
      "2\n"
     ]
    }
   ],
   "source": [
    "import random\n",
    "lstx = [1,2,3,4,5]\n",
    "print(random.choice(lstx))\n"
   ]
  },
  {
   "cell_type": "markdown",
   "id": "d730048d-376e-4360-aaa7-d512b522258e",
   "metadata": {},
   "source": [
    "### (67)How can you pick a random item from a range?"
   ]
  },
  {
   "cell_type": "code",
   "execution_count": 124,
   "id": "43445586-b2f9-474b-9d97-ad6126129536",
   "metadata": {},
   "outputs": [
    {
     "name": "stdout",
     "output_type": "stream",
     "text": [
      "5\n"
     ]
    }
   ],
   "source": [
    "print(random.randrange(1,8))"
   ]
  },
  {
   "cell_type": "markdown",
   "id": "47aa4b07-d5a1-46df-ace1-67a316dcd5b3",
   "metadata": {},
   "source": [
    "### (68)How can you get a random number in python?"
   ]
  },
  {
   "cell_type": "code",
   "execution_count": 128,
   "id": "f01d69e5-c6e4-4cd9-be2e-541816253bf5",
   "metadata": {},
   "outputs": [
    {
     "name": "stdout",
     "output_type": "stream",
     "text": [
      "0.898807378067235\n"
     ]
    }
   ],
   "source": [
    "random.seed()\n",
    "print(random.random())"
   ]
  },
  {
   "cell_type": "markdown",
   "id": "fd7606a4-e2ad-493b-97ff-d5cebf074dcf",
   "metadata": {},
   "source": [
    "### (69)How will you set the starting value in generating random numbers?"
   ]
  },
  {
   "cell_type": "code",
   "execution_count": 130,
   "id": "d30d6743-b8a0-4f0e-839d-97b31a54f080",
   "metadata": {},
   "outputs": [
    {
     "name": "stdin",
     "output_type": "stream",
     "text": [
      "Enter the strating number : 45\n"
     ]
    },
    {
     "name": "stdout",
     "output_type": "stream",
     "text": [
      "48\n"
     ]
    }
   ],
   "source": [
    "xx = int(input(\"Enter the strating number :\"))\n",
    "\n",
    "xy = random.randrange(xx,50)\n",
    "print(xy)"
   ]
  },
  {
   "cell_type": "markdown",
   "id": "39e75f08-8fa6-4cec-aee4-14f253962531",
   "metadata": {},
   "source": [
    "### (70) How will you randomize the items of a list in place?"
   ]
  },
  {
   "cell_type": "code",
   "execution_count": 173,
   "id": "2d2c26aa-1574-4f8e-89c8-397ff6099ed9",
   "metadata": {},
   "outputs": [
    {
     "name": "stdout",
     "output_type": "stream",
     "text": [
      "old [2, 4, 6, 8, 5]\n"
     ]
    },
    {
     "data": {
      "text/plain": [
       "[8, 4, 6, 5, 2]"
      ]
     },
     "execution_count": 173,
     "metadata": {},
     "output_type": "execute_result"
    }
   ],
   "source": [
    "lst20 = [2,4,6,8,5]\n",
    "print(\"old\",lst20)\n",
    "random.shuffle(lst20)\n",
    "lst20"
   ]
  },
  {
   "cell_type": "markdown",
   "id": "1be3b740-09e6-4d36-bf06-51baa9e9d3e3",
   "metadata": {},
   "source": [
    "### (72)Write a Python program to read an entire text file."
   ]
  },
  {
   "cell_type": "code",
   "execution_count": 4,
   "id": "68c8649b-708e-45f0-8b92-1ec0e10a2785",
   "metadata": {},
   "outputs": [
    {
     "name": "stdout",
     "output_type": "stream",
     "text": [
      " THIS IS FILE WHICH WE MADE\n",
      "\n",
      "\n"
     ]
    }
   ],
   "source": [
    "a = open(r\"C:\\Users\\OM\\Desktop\\TEXT FILE.txt\")\n",
    "print(a.read())"
   ]
  },
  {
   "cell_type": "markdown",
   "id": "3c590beb-87bf-4ae9-8d74-3714fe018463",
   "metadata": {},
   "source": [
    "### (73)Write a Python program to append text to a file and display the text."
   ]
  },
  {
   "cell_type": "code",
   "execution_count": 37,
   "id": "d7034ab8-9871-4a7b-ad6d-142804b0fa81",
   "metadata": {},
   "outputs": [
    {
     "name": "stdout",
     "output_type": "stream",
     "text": [
      " THIS IS FILE WHICH WE MADE\n",
      "\n",
      "txttxttxttxttxttxttxttxttxttxttxttxttxttxttxttxt\n"
     ]
    }
   ],
   "source": [
    "a = open(r\"C:\\Users\\OM\\Desktop\\TEXT FILE.txt\", \"a\")\n",
    "a.write(\"txt\")\n",
    "a.close()\n",
    "a = open(r\"C:\\Users\\OM\\Desktop\\TEXT FILE.txt\", \"r\")\n",
    "print(a.read())"
   ]
  },
  {
   "cell_type": "markdown",
   "id": "1659c102-7605-4854-aa24-5a168f3ac6df",
   "metadata": {},
   "source": [
    "### (74)Write a Python program to read first n lines of a file. "
   ]
  },
  {
   "cell_type": "code",
   "execution_count": 40,
   "id": "ba2822c8-c063-43b8-88f1-52f0e0c5789b",
   "metadata": {},
   "outputs": [
    {
     "name": "stdout",
     "output_type": "stream",
     "text": [
      " THIS IS FILE WHICH WE MADE\n",
      "\n"
     ]
    }
   ],
   "source": [
    "a = open(r\"C:\\Users\\OM\\Desktop\\TEXT FILE.txt\",\"r\")\n",
    "print(a.readline())"
   ]
  },
  {
   "cell_type": "markdown",
   "id": "4b8bde67-91be-4ed1-b66a-2cb4350328c3",
   "metadata": {},
   "source": [
    "### (75)Write a Python program to read last n lines of a file."
   ]
  },
  {
   "cell_type": "code",
   "execution_count": 49,
   "id": "9ddd514a-f47f-4179-9893-0cc8f179c2a6",
   "metadata": {},
   "outputs": [
    {
     "name": "stdout",
     "output_type": "stream",
     "text": [
      " hello my name is dp\n"
     ]
    }
   ],
   "source": [
    "a = open(r\"C:\\Users\\OM\\Desktop\\TEXT FILE.txt\",\"a\")\n",
    "a.write(\"\\n hello my name is dp\")\n",
    "a.close()\n",
    "a = open(\"example.txt\",\"r\")\n",
    "p = list(a.readlines())\n",
    "print(p[-1])\n"
   ]
  },
  {
   "cell_type": "markdown",
   "id": "93ac0db6-0404-4d67-a418-425a6bd5d3c5",
   "metadata": {},
   "source": [
    "### (76)Write a Python program to read a file line by line and store it into a list"
   ]
  },
  {
   "cell_type": "code",
   "execution_count": 57,
   "id": "662dd40d-d25c-4e7b-9cf1-8a94c0146ace",
   "metadata": {},
   "outputs": [
    {
     "name": "stdout",
     "output_type": "stream",
     "text": [
      "[' THIS IS FILE WHICH WE MADE\\n', '\\n', 'txttxttxttxttxttxttxttxttxttxttxttxttxttxttxttxt\\n', '\\n', 'prashant tiwari \\n', ' hello my name is dp\\n', ' hello my name is dp\\n', ' hello my name is dp']\n"
     ]
    }
   ],
   "source": [
    "a = open(r\"C:\\Users\\OM\\Desktop\\TEXT FILE.txt\",\"r\")\n",
    "q = list(a.readlines())\n",
    "print(q)"
   ]
  },
  {
   "cell_type": "markdown",
   "id": "665b5702-a577-4875-bb3a-8d792cea034e",
   "metadata": {},
   "source": [
    "### (77)Write a Python program to read a file line by line store it into a variable."
   ]
  },
  {
   "cell_type": "code",
   "execution_count": null,
   "id": "eb507d41-efd4-4e7c-b891-bc6686e57319",
   "metadata": {},
   "outputs": [],
   "source": [
    "a = open(r\"C:\\Users\\OM\\Desktop\\TEXT FILE.txt\",\"r\")\n",
    "q = str(ad.readlines())\n",
    "print(q)"
   ]
  },
  {
   "cell_type": "markdown",
   "id": "3f6871c7-9517-4e63-9d33-13cabe37bb1f",
   "metadata": {},
   "source": [
    "### (78)Write a python program to find the longest words."
   ]
  },
  {
   "cell_type": "code",
   "execution_count": 65,
   "id": "0bf14c06-6100-4622-b9a0-3966e3d00f28",
   "metadata": {},
   "outputs": [
    {
     "data": {
      "text/plain": [
       "'txttxttxttxttxttxttxttxttxttxttxttxttxttxttxttxt'"
      ]
     },
     "execution_count": 65,
     "metadata": {},
     "output_type": "execute_result"
    }
   ],
   "source": [
    "a = open(r\"C:\\Users\\OM\\Desktop\\TEXT FILE.txt\",\"r\")\n",
    "x = a.read()\n",
    "y=x.split()\n",
    "y\n",
    "max_word=max(y,key=len)\n",
    "max_word"
   ]
  },
  {
   "cell_type": "markdown",
   "id": "a5b81c62-fbaa-43c2-ad47-58f39a999265",
   "metadata": {},
   "source": [
    "### (79)Write a Python program to count the number of lines in a text file"
   ]
  },
  {
   "cell_type": "code",
   "execution_count": 70,
   "id": "1206d8d2-7497-4e14-a896-6723831dee49",
   "metadata": {},
   "outputs": [
    {
     "data": {
      "text/plain": [
       "8"
      ]
     },
     "execution_count": 70,
     "metadata": {},
     "output_type": "execute_result"
    }
   ],
   "source": [
    "a= open(r\"C:\\Users\\OM\\Desktop\\TEXT FILE.txt\",\"r\")\n",
    "a = len(a.readlines())\n",
    "a"
   ]
  },
  {
   "cell_type": "markdown",
   "id": "22468dd5-0850-4e3e-86fc-8bbea0401803",
   "metadata": {},
   "source": [
    "### (80)Write a Python program to count the frequency of wor in a file"
   ]
  },
  {
   "cell_type": "code",
   "execution_count": null,
   "id": "45734c53-1db7-4dbe-a182-77bd951391ee",
   "metadata": {},
   "outputs": [],
   "source": []
  },
  {
   "cell_type": "markdown",
   "id": "8cec99c3-0453-406c-8b73-66da23b5284b",
   "metadata": {},
   "source": [
    "### (81)Write a Python program to write a list to a file. "
   ]
  },
  {
   "cell_type": "code",
   "execution_count": 76,
   "id": "b4c86ef9-abef-4af2-bf21-678290b6165e",
   "metadata": {},
   "outputs": [
    {
     "name": "stdout",
     "output_type": "stream",
     "text": [
      "abcdp\n"
     ]
    }
   ],
   "source": [
    "lst = ['a','b','c','dp']\n",
    "ah= open(\"example1.txt\",\"w\")\n",
    "for i in lst:\n",
    "    ah.write(i)\n",
    "ah.close()\n",
    "ai= open(\"example1.txt\",\"r\")\n",
    "print(ai.read())"
   ]
  },
  {
   "cell_type": "markdown",
   "id": "9570cd5f-a149-46d2-a020-da4ebc3269f3",
   "metadata": {},
   "source": [
    "### (82)Write a Python program to copy the contents of a file to another file"
   ]
  },
  {
   "cell_type": "code",
   "execution_count": null,
   "id": "d2d5b5d8-99dc-4d0e-9058-fdc45e458eaa",
   "metadata": {},
   "outputs": [],
   "source": []
  },
  {
   "cell_type": "markdown",
   "id": "99fd2a29-ba27-4a17-86ca-58042e9b93f7",
   "metadata": {},
   "source": [
    "### (88)What happens when „1‟== 1 is executed?"
   ]
  },
  {
   "cell_type": "code",
   "execution_count": 102,
   "id": "5da4066f-7db0-410b-ba71-20da8af83066",
   "metadata": {},
   "outputs": [
    {
     "name": "stdout",
     "output_type": "stream",
     "text": [
      "False\n"
     ]
    }
   ],
   "source": [
    "#It will returns output as False.\n",
    " #1 assigns as a integar value and \"1\" will assigned as  a string.\n",
    " \n",
    "print(\"1\" == 1) "
   ]
  },
  {
   "cell_type": "markdown",
   "id": "98345e03-604f-4d50-a595-eacd695c0cff",
   "metadata": {},
   "source": [
    "### (89)How Do You Handle Exceptions with Try/Except/Finally in Python? Explain with coding snippets. "
   ]
  },
  {
   "cell_type": "code",
   "execution_count": 104,
   "id": "78fdf9d3-d552-43b3-9a27-01b06cb1b5be",
   "metadata": {},
   "outputs": [
    {
     "name": "stdout",
     "output_type": "stream",
     "text": [
      "hello\n",
      "hey\n"
     ]
    }
   ],
   "source": [
    "#The try block lets you test a block of code for errors.\n",
    "#The except block lets you handle the error.\n",
    "#The finally block lets you execute code, regardless of the result of the try- and except blocks.\n",
    "try:\n",
    "    print(x1)\n",
    "except:\n",
    "    print(\"hello\")\n",
    "finally:\n",
    "    print(\"hey\")"
   ]
  },
  {
   "cell_type": "markdown",
   "id": "46346d33-790c-46ec-b637-a03395b8d3a8",
   "metadata": {},
   "source": [
    "### (90)Write python program that user to enter only odd numbers, else will raise an exception."
   ]
  },
  {
   "cell_type": "code",
   "execution_count": 107,
   "id": "c4f1d8f4-4156-4c3e-b6f1-66d1e4fad4b6",
   "metadata": {},
   "outputs": [
    {
     "name": "stdin",
     "output_type": "stream",
     "text": [
      "Enter odd number:  5\n"
     ]
    },
    {
     "name": "stdout",
     "output_type": "stream",
     "text": [
      "odd number: 5\n"
     ]
    }
   ],
   "source": [
    "try:\n",
    "    dp = int(input(\"Enter odd number: \"))\n",
    "    if dp % 2 == 0:\n",
    "        raise (ValueError(\"Error: The number is not odd number!\"))\n",
    "    print(f\"odd number: {dp}\")\n",
    "except ValueError:\n",
    "    print(ValueError)"
   ]
  }
 ],
 "metadata": {
  "kernelspec": {
   "display_name": "Python 3 (ipykernel)",
   "language": "python",
   "name": "python3"
  },
  "language_info": {
   "codemirror_mode": {
    "name": "ipython",
    "version": 3
   },
   "file_extension": ".py",
   "mimetype": "text/x-python",
   "name": "python",
   "nbconvert_exporter": "python",
   "pygments_lexer": "ipython3",
   "version": "3.12.7"
  }
 },
 "nbformat": 4,
 "nbformat_minor": 5
}
